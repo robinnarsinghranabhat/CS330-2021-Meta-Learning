{
 "metadata": {
  "language_info": {
   "codemirror_mode": {
    "name": "ipython",
    "version": 3
   },
   "file_extension": ".py",
   "mimetype": "text/x-python",
   "name": "python",
   "nbconvert_exporter": "python",
   "pygments_lexer": "ipython3",
   "version": "3.8.3-final"
  },
  "orig_nbformat": 2,
  "kernelspec": {
   "name": "meta_learn",
   "display_name": "meta_learn",
   "language": "python"
  }
 },
 "nbformat": 4,
 "nbformat_minor": 2,
 "cells": [
  {
   "source": [
    "## 1. Simple Computational Graph Example with Pytorch"
   ],
   "cell_type": "markdown",
   "metadata": {}
  },
  {
   "source": [
    "### 1.1 Build the computaional graph as shown in figure"
   ],
   "cell_type": "markdown",
   "metadata": {}
  },
  {
   "cell_type": "code",
   "execution_count": 20,
   "metadata": {},
   "outputs": [],
   "source": [
    "# theta = torch.nn.Parameter(data=torch.Tensor([5]), requires_grad=True)\n",
    "\n",
    "a = torch.tensor(1. , requires_grad=True)\n",
    "c = torch.square(a)\n",
    "d = torch.tensor([2])\n",
    "e = c * d\n",
    "\n",
    "# gradient of e w.r.t a \n",
    "e_grad_a = torch.autograd.grad( e , a, create_graph=True )\n",
    "loss = e  + e_grad_a[0]\n",
    "\n",
    "loss.backward()"
   ]
  },
  {
   "cell_type": "code",
   "execution_count": 21,
   "metadata": {},
   "outputs": [
    {
     "output_type": "execute_result",
     "data": {
      "text/plain": [
       "tensor(8.)"
      ]
     },
     "metadata": {},
     "execution_count": 21
    }
   ],
   "source": [
    "a.grad\n",
    "\n",
    "## eXact gradient\n",
    "# de/da = d(a*a*d)/ da = 2*a*d\n",
    "\n",
    "## "
   ]
  }
 ]
}